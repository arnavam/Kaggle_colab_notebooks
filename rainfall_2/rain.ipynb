{
  "cells": [
    {
      "cell_type": "code",
      "execution_count": 1,
      "metadata": {
        "id": "gSR_dtIhpLJG"
      },
      "outputs": [],
      "source": [
        "import pandas as pd\n",
        "import sklearn\n",
        "import matplotlib.pyplot as plt\n",
        "import seaborn as sns"
      ]
    },
    {
      "cell_type": "code",
      "execution_count": 2,
      "metadata": {
        "colab": {
          "base_uri": "https://localhost:8080/"
        },
        "id": "WNIFdrd4pLJH",
        "outputId": "798450d0-d768-4d86-e010-3c52c3c80141"
      },
      "outputs": [
        {
          "output_type": "stream",
          "name": "stdout",
          "text": [
            "CatBoost not found, installing...\n",
            "Optuna not found, installing...\n"
          ]
        }
      ],
      "source": [
        "import subprocess\n",
        "import sys\n",
        "\n",
        "def install_package(package_name):\n",
        "    try:\n",
        "        subprocess.check_call([sys.executable, \"-m\", \"pip\", \"install\", package_name])\n",
        "    except subprocess.CalledProcessError:\n",
        "        print(f\"Error installing {package_name}\")\n",
        "\n",
        "# Check and install packages\n",
        "try:\n",
        "    import catboost\n",
        "except ImportError:\n",
        "    print(\"CatBoost not found, installing...\")\n",
        "    install_package('catboost')\n",
        "\n",
        "try:\n",
        "    import xgboost\n",
        "except ImportError:\n",
        "    print(\"XGBoost not found, installing...\")\n",
        "    install_package('xgboost')\n",
        "\n",
        "try:\n",
        "    import lightgbm\n",
        "except ImportError:\n",
        "    print(\"LightGBM not found, installing...\")\n",
        "    install_package('lightgbm')\n",
        "\n",
        "try:\n",
        "    import optuna\n",
        "except ImportError:\n",
        "    print(\"Optuna not found, installing...\")\n",
        "    install_package('optuna')\n"
      ]
    },
    {
      "cell_type": "code",
      "execution_count": 3,
      "metadata": {
        "id": "8Ey-GPObpLJH"
      },
      "outputs": [],
      "source": [
        "train=pd.read_csv(\"train.csv\")\n",
        "test=pd.read_csv('test.csv')\n",
        "x=train.drop(['rainfall','id'],axis=1).copy()\n",
        "y=train['rainfall']"
      ]
    },
    {
      "cell_type": "code",
      "execution_count": 4,
      "metadata": {
        "id": "KsWXgHuXpLJH"
      },
      "outputs": [],
      "source": [
        "def describe(df):\n",
        "  desc=pd.DataFrame()\n",
        "  desc['dtype']=df.dtypes\n",
        "  desc['null']=df.isnull().sum()\n",
        "  desc['%null'] = desc['null'] / len(df) * 100\n",
        "  # desc['mean']=df.mean()\n",
        "  # desc['median']=df.median()\n",
        "  #desc['%unique'] = desc['nunique'] /len(df)*100\n",
        "  desc = pd.concat([desc,df.describe(include = 'all').T],axis=1).sort_values(by='null',ascending=False)\n",
        "  desc['count']=df.count()\n",
        "  desc['unique']=df.nunique()\n",
        "  # desc['freq/mean']=desc['freq'].fillna(desc['mean']).drop(['freq','mean'],axis=1)\n",
        "  display(desc)\n",
        "# describe(train)"
      ]
    },
    {
      "cell_type": "code",
      "execution_count": 5,
      "metadata": {
        "id": "LFRAn1AapLJH"
      },
      "outputs": [],
      "source": [
        "xtr=x[:1752]\n",
        "xte=x[1752:]\n",
        "ytr=y[:1752]\n",
        "yte=y[1752:]\n",
        "\n",
        "# # @title gaussian\n",
        "# from sklearn.ensemble import HistGradientBoostingClassifier\n",
        "# model=HistGradientBoostingClassifier()\n",
        "\n",
        "# model.fit(xtr,ytr)\n",
        "# model.score(xte,yte)\n"
      ]
    },
    {
      "cell_type": "code",
      "execution_count": 6,
      "metadata": {
        "colab": {
          "base_uri": "https://localhost:8080/"
        },
        "id": "a_UUOPgapLJH",
        "outputId": "c2c09d95-5cc2-4b12-e6b3-1ab85d336a53"
      },
      "outputs": [
        {
          "output_type": "execute_result",
          "data": {
            "text/plain": [
              "(438, 11)"
            ]
          },
          "metadata": {},
          "execution_count": 6
        }
      ],
      "source": [
        "xte.shape"
      ]
    },
    {
      "cell_type": "code",
      "execution_count": 7,
      "metadata": {
        "id": "7M28ogtgpLJI"
      },
      "outputs": [],
      "source": [
        "import xgboost as xgb\n",
        "from catboost import CatBoostClassifier\n",
        "import lightgbm as lgb"
      ]
    },
    {
      "cell_type": "code",
      "execution_count": 8,
      "metadata": {
        "id": "hAZxFH8CpLJI"
      },
      "outputs": [],
      "source": [
        "from sklearn.metrics import accuracy_score, classification_report, confusion_matrix, f1_score, roc_auc_score,recall_score"
      ]
    },
    {
      "cell_type": "code",
      "execution_count": 9,
      "metadata": {
        "colab": {
          "base_uri": "https://localhost:8080/"
        },
        "id": "32NwV9yhpLJI",
        "outputId": "a6f20b47-3760-4766-83a3-2402bf4a85bb"
      },
      "outputs": [
        {
          "output_type": "stream",
          "name": "stdout",
          "text": [
            "Number of finished trials: 100\n",
            "Best trial:\n",
            "  Value: -0.1232876712328767\n",
            "  Params: \n",
            "    min_child_weight: 1\n",
            "    max_depth: 5\n",
            "    gamma: 0.2290917358831358\n",
            "    learning_rate: 0.12705935699522636\n",
            "    subsample: 0.6587478969854275\n",
            "    colsample_bytree: 0.8682721599806289\n",
            "    lambda: 0.0007543281111211722\n",
            "    alpha: 7.329102315495256e-08\n",
            "    max_bin: 6633\n",
            "    scale_pos_weight: 9.923731177329824\n"
          ]
        }
      ],
      "source": [
        "# @title xgboost\n",
        "from sklearn.metrics import mean_squared_error\n",
        "import optuna\n",
        "\n",
        "def create(trial):\n",
        "  params = {\n",
        "          \"min_child_weight\":trial.suggest_int('min_child_weight',1,5),\n",
        "          \"max_depth\": trial.suggest_int(\"max_depth\", 5, 10),\n",
        "          \"gamma\":trial.suggest_float('gamma',0,0.5),\n",
        "          \"learning_rate\": trial.suggest_float(\"learning_rate\", 0.01, 0.2, log=True),\n",
        "          \"subsample\": trial.suggest_float(\"subsample\", 0.5, 1.0),\n",
        "          \"colsample_bytree\": trial.suggest_float(\"colsample_bytree\", 0.5, 1.0),\n",
        "          #\"reg_alpha\":trial.suggest_float('reg_alpha',0 ,5),\n",
        "        \"lambda\": trial.suggest_float(\"lambda\", 1e-8, 1.0, log=True),\n",
        "        \"alpha\": trial.suggest_float(\"alpha\", 1e-8, 1.0, log=True),\n",
        "          \"max_bin\" :trial.suggest_int('max_bin',500,8000),\n",
        "          \"scale_pos_weight\":trial.suggest_float('scale_pos_weight',1.0,16.0,),\n",
        "\n",
        "\n",
        "      }\n",
        "\n",
        "  return params\n",
        "\n",
        "model=xgb.XGBClassifier(\n",
        "#      learning_rate =0.1, max_depth=4,\n",
        "#  min_child_weight=6, gamma=0, subsample=0.8, colsample_bytree=0.8,reg_alpha=0,\n",
        "#  tree_method=\"hist\"\n",
        "eval_metric=\"aucpr\")\n",
        "\n",
        "def objective(trial):\n",
        "\n",
        "\n",
        "    model = xgb.XGBClassifier(**create(trial))\n",
        "    model.fit(xtr, ytr)\n",
        "    predictions = model.predict(xte)\n",
        "    acc = f1_score(yte, predictions)\n",
        "    # rmse = -mean_squared_error(yte, predictions)\n",
        "\n",
        "    #cross = cross_val_score(model,x,y,cv=3, n_jobs=-1).mean()\n",
        "    return acc\n",
        "\n",
        "optuna.logging.set_verbosity(optuna.logging.INFO)\n",
        "study = optuna.create_study(direction='maximize')\n",
        "study.optimize(objective, n_trials=100)\n",
        "\n",
        "from IPython.display import clear_output\n",
        "\n",
        "clear_output(wait=True)\n",
        "\n",
        "\n",
        "best_params_xgb=study.best_params\n",
        "print(\"Number of finished trials: {}\".format(len(study.trials)))\n",
        "\n",
        "print(\"Best trial:\")\n",
        "trial = study.best_trial\n",
        "\n",
        "print(\"  Value: {}\".format(trial.value))\n",
        "\n",
        "print(\"  Params: \")\n",
        "for key, value in trial.params.items():\n",
        "    print(\"    {}: {}\".format(key, value))"
      ]
    },
    {
      "cell_type": "code",
      "execution_count": 10,
      "metadata": {
        "colab": {
          "base_uri": "https://localhost:8080/"
        },
        "id": "zdlhLlLYpLJI",
        "outputId": "c05caf71-e14b-4d41-fb35-dde99f1af881"
      },
      "outputs": [
        {
          "output_type": "stream",
          "name": "stdout",
          "text": [
            "Number of finished trials: 100\n",
            "Best trial:\n",
            "  Value: 0.9206798866855525\n",
            "  Params: \n",
            "    boosting_type: dart\n",
            "    learning_rate: 0.0667333232576425\n",
            "    num_leaves: 433\n",
            "    max_depth: 4\n",
            "    min_child_samples: 9\n",
            "    subsample: 0.8920641342377061\n",
            "    colsample_bytree: 0.7754327315794817\n",
            "    reg_alpha: 0.7175337764770581\n",
            "    reg_lambda: 0.8869032551517899\n",
            "    n_estimators: 227\n"
          ]
        }
      ],
      "source": [
        "# @title LightGBM\n",
        "# from sklearn.metrics import mean_squared_error\n",
        "import optuna\n",
        "import warnings\n",
        "warnings.filterwarnings(\"ignore\", message=\"'force_all_finite' was renamed\")\n",
        "\n",
        "def create(trial):\n",
        "\n",
        "  params = {\n",
        "        \"verbosity\": -1,\n",
        "        \"boosting_type\": trial.suggest_categorical(\"boosting_type\", [\"gbdt\", \"dart\", \"goss\"]),\n",
        "        \"learning_rate\": trial.suggest_float(\"learning_rate\", 0.01, 0.1),\n",
        "        \"num_leaves\": trial.suggest_int(\"num_leaves\", 10, 1000),\n",
        "        \"max_depth\": trial.suggest_int(\"max_depth\", 3, 15),\n",
        "        \"min_child_samples\": trial.suggest_int(\"min_child_samples\", 1, 20),\n",
        "        \"subsample\": trial.suggest_float(\"subsample\", 0.5, 1.0),\n",
        "        \"colsample_bytree\": trial.suggest_float(\"colsample_bytree\", 0.5, 1.0),\n",
        "        \"reg_alpha\": trial.suggest_float(\"reg_alpha\", 0.0, 1.0),\n",
        "        \"reg_lambda\": trial.suggest_float(\"reg_lambda\", 0.0, 1.0),\n",
        "        \"n_estimators\": trial.suggest_int(\"n_estimators\", 100, 1000),\n",
        "        \"random_state\": 42,\n",
        "    }\n",
        "  return params\n",
        "\n",
        "model=lgb.LGBMClassifier(# \"num_class\": 3,  # Set the number of classes\n",
        "    objective='binary',metric='auc_mu')\n",
        "\n",
        "def objective(trial):\n",
        "\n",
        "\n",
        "    model = lgb.LGBMClassifier(**create(trial))\n",
        "    model.fit(xtr, ytr)\n",
        "    predictions = model.predict(xte)\n",
        "    acc = f1_score(yte, predictions)\n",
        "    # rmse = -mean_squared_error(yte, predictions)\n",
        "\n",
        "    #cross = cross_val_score(model,x,y,cv=3, n_jobs=-1).mean()\n",
        "    return acc\n",
        "\n",
        "optuna.logging.set_verbosity(optuna.logging.INFO)\n",
        "study = optuna.create_study(direction='maximize')\n",
        "study.optimize(objective, n_trials=100)\n",
        "\n",
        "from IPython.display import clear_output\n",
        "\n",
        "clear_output(wait=True)\n",
        "\n",
        "best_params_lgb=study.best_params\n",
        "print(\"Number of finished trials: {}\".format(len(study.trials)))\n",
        "\n",
        "print(\"Best trial:\")\n",
        "trial = study.best_trial\n",
        "\n",
        "print(\"  Value: {}\".format(trial.value))\n",
        "\n",
        "print(\"  Params: \")\n",
        "for key, value in trial.params.items():\n",
        "    print(\"    {}: {}\".format(key, value))"
      ]
    },
    {
      "cell_type": "code",
      "execution_count": 11,
      "metadata": {
        "colab": {
          "base_uri": "https://localhost:8080/"
        },
        "id": "JVbwxhbwpLJI",
        "outputId": "22b47eea-36d4-40c9-da51-edecdc2bd6a6"
      },
      "outputs": [
        {
          "output_type": "stream",
          "name": "stdout",
          "text": [
            "Number of finished trials: 100\n",
            "Best trial:\n",
            "  Value: 0.924791086350975\n",
            "  Params: \n",
            "    learning_rate: 0.05305394200562121\n",
            "    n_estimators: 503\n",
            "    max_depth: 9\n",
            "    colsample_bylevel: 0.40587160776256914\n",
            "    reg_lambda: 0.44043531841665706\n",
            "    scale_pos_weight: 7.674932856616978\n"
          ]
        }
      ],
      "source": [
        "# @title catboost\n",
        "from catboost import CatBoostClassifier, Pool, cv, MetricVisualizer\n",
        "from sklearn.metrics import mean_squared_error\n",
        "import optuna\n",
        "def create(trial):\n",
        "\n",
        "  params = {\n",
        "\n",
        "        \"random_state\": 42,\n",
        "        \"learning_rate\": trial.suggest_float(\"learning_rate\", 0.01, 0.1),\n",
        "        \"n_estimators\": trial.suggest_int(\"n_estimators\", 400, 600),\n",
        "        \"max_depth\": trial.suggest_int(\"max_depth\", 3, 10),\n",
        "        \"colsample_bylevel\": trial.suggest_float(\"colsample_bylevel\", 0.3, 0.9),\n",
        "        \"reg_lambda\": trial.suggest_float(\"reg_lambda\", 0.0, 1.0),\n",
        "        \"scale_pos_weight\":trial.suggest_float('scale_pos_weight',1.0,16.0,)\n",
        "    }\n",
        "  return params\n",
        "\n",
        "\n",
        "model=CatBoostClassifier(eval_metric='F1',verbose=100)\n",
        "\n",
        "def objective(trial):\n",
        "\n",
        "\n",
        "    model = CatBoostClassifier(**create(trial))\n",
        "    model.fit(xtr, ytr)\n",
        "    predictions = model.predict(xte)\n",
        "    acc = f1_score(yte, predictions)\n",
        "    # rmse = -mean_squared_error(yte, predictions)\n",
        "\n",
        "    #cross = cross_val_score(model,x,y,cv=3, n_jobs=-1).mean()\n",
        "    return acc\n",
        "\n",
        "optuna.logging.set_verbosity(optuna.logging.INFO)\n",
        "study = optuna.create_study(direction='maximize')\n",
        "study.optimize(objective, n_trials=100)\n",
        "\n",
        "from IPython.display import clear_output\n",
        "\n",
        "clear_output(wait=True)\n",
        "\n",
        "best_params_cat=study.best_params\n",
        "print(\"Number of finished trials: {}\".format(len(study.trials)))\n",
        "\n",
        "print(\"Best trial:\")\n",
        "trial = study.best_trial\n",
        "\n",
        "print(\"  Value: {}\".format(trial.value))\n",
        "\n",
        "print(\"  Params: \")\n",
        "for key, value in trial.params.items():\n",
        "    print(\"    {}: {}\".format(key, value))"
      ]
    },
    {
      "cell_type": "code",
      "source": [
        "from sklearn.ensemble import RandomForestClassifier\n"
      ],
      "metadata": {
        "id": "HBJajMfDqYr8"
      },
      "execution_count": 13,
      "outputs": []
    },
    {
      "cell_type": "code",
      "execution_count": 14,
      "metadata": {
        "id": "BkRyvsnZpLJJ"
      },
      "outputs": [],
      "source": [
        "models = {\n",
        "    'Random Forest': RandomForestClassifier(n_estimators=100, random_state=42),\n",
        "    'XGBoost': xgb.XGBClassifier(**best_params_xgb,eval_metric='aucpr', random_state=42),\n",
        "    'CatBoost': CatBoostClassifier(**best_params_cat,eval_metric='F1', verbose=100,random_state=42),\n",
        "    'LightGBM': lgb.LGBMClassifier(**best_params_lgb,random_state=42,objective='binary'),\n",
        "\n",
        "}"
      ]
    },
    {
      "cell_type": "code",
      "execution_count": 15,
      "metadata": {
        "colab": {
          "base_uri": "https://localhost:8080/"
        },
        "id": "Qe2L1qpopLJJ",
        "outputId": "26f11766-9ee4-40fb-d982-9bfa346c887d"
      },
      "outputs": [
        {
          "output_type": "stream",
          "name": "stdout",
          "text": [
            "\n",
            "Training Random Forest...\n",
            "Accuracy: 0.8562\n",
            "recall: 0.9191\n",
            "F1-score: 0.9099\n",
            "ROC-AUC: 0.7693\n",
            "Classification Report:\n",
            "               precision    recall  f1-score   support\n",
            "\n",
            "           0       0.67      0.62      0.64        92\n",
            "           1       0.90      0.92      0.91       346\n",
            "\n",
            "    accuracy                           0.86       438\n",
            "   macro avg       0.79      0.77      0.78       438\n",
            "weighted avg       0.85      0.86      0.85       438\n",
            "\n",
            "Confusion Matrix:\n",
            " [[ 57  35]\n",
            " [ 28 318]]\n",
            "\n",
            "Training XGBoost...\n",
            "Accuracy: 0.8607\n",
            "recall: 0.9509\n",
            "F1-score: 0.9152\n",
            "ROC-AUC: 0.7363\n",
            "Classification Report:\n",
            "               precision    recall  f1-score   support\n",
            "\n",
            "           0       0.74      0.52      0.61        92\n",
            "           1       0.88      0.95      0.92       346\n",
            "\n",
            "    accuracy                           0.86       438\n",
            "   macro avg       0.81      0.74      0.76       438\n",
            "weighted avg       0.85      0.86      0.85       438\n",
            "\n",
            "Confusion Matrix:\n",
            " [[ 48  44]\n",
            " [ 17 329]]\n",
            "\n",
            "Training CatBoost...\n",
            "0:\tlearn: 0.9800249\ttotal: 7.55ms\tremaining: 3.79s\n",
            "100:\tlearn: 0.9900580\ttotal: 607ms\tremaining: 2.41s\n",
            "200:\tlearn: 0.9939419\ttotal: 1.2s\tremaining: 1.79s\n",
            "300:\tlearn: 0.9960192\ttotal: 1.8s\tremaining: 1.21s\n",
            "400:\tlearn: 0.9974585\ttotal: 2.39s\tremaining: 609ms\n",
            "500:\tlearn: 0.9982047\ttotal: 2.96s\tremaining: 11.8ms\n",
            "502:\tlearn: 0.9982047\ttotal: 2.97s\tremaining: 0us\n",
            "Accuracy: 0.8767\n",
            "recall: 0.9595\n",
            "F1-score: 0.9248\n",
            "ROC-AUC: 0.7624\n",
            "Classification Report:\n",
            "               precision    recall  f1-score   support\n",
            "\n",
            "           0       0.79      0.57      0.66        92\n",
            "           1       0.89      0.96      0.92       346\n",
            "\n",
            "    accuracy                           0.88       438\n",
            "   macro avg       0.84      0.76      0.79       438\n",
            "weighted avg       0.87      0.88      0.87       438\n",
            "\n",
            "Confusion Matrix:\n",
            " [[ 52  40]\n",
            " [ 14 332]]\n",
            "\n",
            "Training LightGBM...\n",
            "Accuracy: 0.8721\n",
            "recall: 0.9393\n",
            "F1-score: 0.9207\n",
            "ROC-AUC: 0.7794\n",
            "Classification Report:\n",
            "               precision    recall  f1-score   support\n",
            "\n",
            "           0       0.73      0.62      0.67        92\n",
            "           1       0.90      0.94      0.92       346\n",
            "\n",
            "    accuracy                           0.87       438\n",
            "   macro avg       0.82      0.78      0.80       438\n",
            "weighted avg       0.87      0.87      0.87       438\n",
            "\n",
            "Confusion Matrix:\n",
            " [[ 57  35]\n",
            " [ 21 325]]\n"
          ]
        }
      ],
      "source": [
        "for name, model in models.items():\n",
        "    print(f'\\nTraining {name}...')\n",
        "    model.fit(xtr, ytr)\n",
        "    y_pred = model.predict(xte)\n",
        "\n",
        "\n",
        "    accuracy = accuracy_score(yte, y_pred)\n",
        "    f1 = f1_score(yte, y_pred)\n",
        "    roc_auc = roc_auc_score(yte, y_pred)\n",
        "    recall=recall_score(yte,y_pred)\n",
        "    print(f'Accuracy: {accuracy:.4f}')\n",
        "    print(f'recall: {recall:.4f}')\n",
        "    print(f'F1-score: {f1:.4f}')\n",
        "    print(f'ROC-AUC: {roc_auc:.4f}')\n",
        "    print('Classification Report:\\n', classification_report(yte, y_pred))\n",
        "    print('Confusion Matrix:\\n', confusion_matrix(yte, y_pred))\n",
        "\n"
      ]
    },
    {
      "cell_type": "code",
      "execution_count": 16,
      "metadata": {
        "colab": {
          "base_uri": "https://localhost:8080/"
        },
        "id": "T6FCWxukpLJJ",
        "outputId": "ab909d6e-9c61-4bcf-ef4f-eb77950bdac4"
      },
      "outputs": [
        {
          "output_type": "execute_result",
          "data": {
            "text/plain": [
              "0.8721461187214612"
            ]
          },
          "metadata": {},
          "execution_count": 16
        }
      ],
      "source": [
        "model=lgb.LGBMClassifier(**best_params_lgb,random_state=42,objective='binary')\n",
        "model.fit(xtr,ytr)\n",
        "model.score(xte,yte)"
      ]
    },
    {
      "cell_type": "code",
      "execution_count": null,
      "metadata": {
        "id": "Hsbiw-bIpLJJ"
      },
      "outputs": [],
      "source": [
        "plt.figure(figsize=(15,10))\n",
        "sns.heatmap(train.corr(),annot=True)"
      ]
    },
    {
      "cell_type": "code",
      "source": [
        "# Feature Importance (Random Forest as an example)\n",
        "feature_importances = pd.Series(models['Random Forest'].feature_importances_, index=x.columns)\n",
        "feature_importances.nlargest(10).plot(kind='barh')\n",
        "plt.title('Top 10 Important Features')\n",
        "plt.show()\n"
      ],
      "metadata": {
        "colab": {
          "base_uri": "https://localhost:8080/",
          "height": 452
        },
        "id": "ly1tQCEdp614",
        "outputId": "467d9c34-d1f0-472f-d061-df70bcafb35d"
      },
      "execution_count": 17,
      "outputs": [
        {
          "output_type": "display_data",
          "data": {
            "text/plain": [
              "<Figure size 640x480 with 1 Axes>"
            ],
            "image/png": "[encoded data removed]"
          },
          "metadata": {}
        }
      ]
    },
    {
      "cell_type": "code",
      "execution_count": 19,
      "metadata": {
        "id": "gtilZUKspLJJ"
      },
      "outputs": [],
      "source": [
        "\n",
        "l=model.predict(test.drop('id',axis=1))\n",
        "df=pd.DataFrame()\n",
        "df['rainfall']=l\n",
        "df['id']=test['id']\n",
        "df.to_csv(\"sample_submission.csv\", index=False)"
      ]
    }
  ],
  "metadata": {
    "kernelspec": {
      "display_name": "kaggle",
      "language": "python",
      "name": "python3"
    },
    "language_info": {
      "codemirror_mode": {
        "name": "ipython",
        "version": 3
      },
      "file_extension": ".py",
      "mimetype": "text/x-python",
      "name": "python",
      "nbconvert_exporter": "python",
      "pygments_lexer": "ipython3",
      "version": "3.10.16"
    },
    "colab": {
      "provenance": []
    }
  },
  "nbformat": 4,
  "nbformat_minor": 0
}